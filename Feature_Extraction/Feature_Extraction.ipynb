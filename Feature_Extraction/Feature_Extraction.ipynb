{
 "cells": [
  {
   "cell_type": "code",
   "execution_count": 1,
   "metadata": {},
   "outputs": [
    {
     "name": "stderr",
     "output_type": "stream",
     "text": [
      "/usr/local/lib/python3.5/dist-packages/matplotlib/font_manager.py:273: UserWarning: Matplotlib is building the font cache using fc-list. This may take a moment.\n",
      "  warnings.warn('Matplotlib is building the font cache using fc-list. This may take a moment.')\n",
      "/usr/local/lib/python3.5/dist-packages/matplotlib/font_manager.py:273: UserWarning: Matplotlib is building the font cache using fc-list. This may take a moment.\n",
      "  warnings.warn('Matplotlib is building the font cache using fc-list. This may take a moment.')\n"
     ]
    }
   ],
   "source": [
    "# General Imports\n",
    "import glob\n",
    "import os\n",
    "import sys\n",
    "import numpy as np\n",
    "import pandas as pd\n",
    "from os import listdir\n",
    "from os.path import isfile, join\n",
    "from scipy.signal import spectrogram\n",
    "\n",
    "# Audio Preprocessing\n",
    "import librosa\n",
    "from librosa.display import specshow\n",
    "\n",
    "# Machine Learning Preprocessing and Evaluation\n",
    "from sklearn.preprocessing import StandardScaler\n",
    "from sklearn.preprocessing import LabelEncoder\n",
    "from sklearn.preprocessing import OneHotEncoder\n",
    "\n",
    "# for Plotting\n",
    "import matplotlib.pyplot as plt\n",
    "%matplotlib inline"
   ]
  },
  {
   "cell_type": "code",
   "execution_count": 3,
   "metadata": {},
   "outputs": [],
   "source": [
    "metadata = pd.read_csv('/home/enterprise.internal.city.ac.uk/acvn476/UrbanSound8K/metadata/UrbanSound8K.csv')\n",
    "parent_dir = '/home/enterprise.internal.city.ac.uk/acvn476/UrbanSound8K/audio'\n",
    "save_dir = 'folds_2channel'\n",
    "file = parent_dir + '/fold1/7061-6-0-0.wav'"
   ]
  },
  {
   "cell_type": "code",
   "execution_count": 4,
   "metadata": {
    "collapsed": true
   },
   "outputs": [],
   "source": [
    "# number of classes - for one-hot encoding and parallel processing\n",
    "num_total_classes = 10\n",
    "# desired output parameters\n",
    "n_frames = 101   # x axis, 345 346\n",
    "n_bands = 60\n",
    "# some FFT parameters\n",
    "\n",
    "sample_rate=22050\n",
    "n_window = int(sample_rate * 4. / n_frames * 2) - 4 * 2\n",
    "fft_overlap = 0.5\n",
    "window_size = 1024 # defaults to n_fft\n",
    "hop_size = 512 # or int(window_size*(1-fft_overlap)) half the window_size"
   ]
  },
  {
   "cell_type": "code",
   "execution_count": 5,
   "metadata": {
    "collapsed": true
   },
   "outputs": [],
   "source": [
    "def read_audio(audio_path, target_fs=None, duration=4):\n",
    "    (audio, fs) = librosa.load(audio_path, sr=None, duration=duration)\n",
    "    # if this is not a mono sounds file\n",
    "    if audio.ndim > 1:\n",
    "        audio = np.mean(audio, axis=1)\n",
    "    if target_fs is not None and fs != target_fs:\n",
    "        audio = librosa.resample(audio, orig_sr=fs, target_sr=target_fs)\n",
    "        fs = target_fs\n",
    "    return audio, fs\n",
    "def pad_trunc_seq_rewrite(x, max_len):\n",
    "    if x.shape[1] < max_len:\n",
    "        pad_shape = (x.shape[0], max_len - x.shape[1])\n",
    "        pad = np.ones(pad_shape) * np.log(1e-8)\n",
    "        #x_new = np.concatenate((x, pad), axis=1)\n",
    "        x_new = np.hstack((x, pad))\n",
    "    # no pad necessary - truncate\n",
    "    else:\n",
    "        x_new = x[:, 0:max_len]\n",
    "    return x_new"
   ]
  },
  {
   "cell_type": "code",
   "execution_count": 6,
   "metadata": {
    "collapsed": true
   },
   "outputs": [],
   "source": [
    "def extract_features(parent_dir, sub_dirs, bands, frames, file_ext=\"*.wav\"):\n",
    "# 4 second clip with 50% window overlap with small offset to guarantee frames\n",
    "    n_window = int(sample_rate * 4. / frames * 2) - 4 * 2\n",
    "    # 50% overlap\n",
    "    n_overlap = int(n_window / 2.)\n",
    "    # Mel filter bank\n",
    "    melW = librosa.filters.mel(sr=sample_rate, n_fft=n_window, n_mels=bands, fmin=0., fmax=8000.)\n",
    "    # Hamming window\n",
    "    ham_win = np.hamming(n_window)\n",
    "    log_specgrams_list = []\n",
    "    labels = []\n",
    "    for l, sub_dir in enumerate(sub_dirs):\n",
    "        for fn in glob.glob(os.path.join(parent_dir, sub_dir, file_ext)):\n",
    "            # print(\"processing\", fn)\n",
    "            sound_clip, fn_fs = read_audio(fn, target_fs=sample_rate)\n",
    "            assert (int(fn_fs) == sample_rate)\n",
    "\n",
    "            if sound_clip.shape[0] < n_window:\n",
    "                print(\"File %s is shorter than window size - DISCARDING - look into making the window larger.\" % fn)\n",
    "                continue\n",
    "\n",
    "            label = fn.split('fold')[1].split('-')[1]\n",
    "            # Skip corrupted wavs\n",
    "            if sound_clip.shape[0] == 0:\n",
    "                print(\"File %s is corrupted!\" % fn)\n",
    "                continue\n",
    "                # raise NameError(\"Check filename - it's an empty sound clip.\")\n",
    "\n",
    "            # Compute spectrogram                \n",
    "            [f, t, x] = spectrogram(\n",
    "                x=sound_clip,\n",
    "                window=ham_win,\n",
    "                nperseg=n_window,\n",
    "                noverlap=n_overlap,\n",
    "                detrend=False,\n",
    "                return_onesided=True,\n",
    "                mode='magnitude')\n",
    "            x = np.dot(x.T, melW.T)\n",
    "            x = np.log(x + 1e-8)\n",
    "            x = x.astype(np.float32).T\n",
    "            x = pad_trunc_seq_rewrite(x, frames)\n",
    "\n",
    "            log_specgrams_list.append(x)\n",
    "            labels.append(label)\n",
    "\n",
    "    log_specgrams = np.asarray(log_specgrams_list).reshape(len(log_specgrams_list), bands, frames, 1)\n",
    "    features = np.concatenate((log_specgrams, np.zeros(np.shape(log_specgrams))), axis=3)\n",
    "    features = np.concatenate((features, np.zeros(np.shape(log_specgrams))), axis=3)\n",
    "    for i in range(len(features)):\n",
    "        # first order difference, computed over 9-step window\n",
    "        features[i, :, :, 1] = librosa.feature.delta(features[i, :, :, 0])\n",
    "        \n",
    "    return np.array(features), np.array(labels, dtype=np.int)  \n",
    "\n",
    "# convert labels to one-hot encoding\n",
    "def one_hot_encode(labels):\n",
    "    n_labels = len(labels)\n",
    "    n_unique_labels = num_total_classes\n",
    "    one_hot_encode = np.zeros((n_labels, n_unique_labels))\n",
    "    one_hot_encode[np.arange(n_labels), labels] = 1\n",
    "    return one_hot_encode"
   ]
  },
  {
   "cell_type": "code",
   "execution_count": 7,
   "metadata": {
    "collapsed": true
   },
   "outputs": [],
   "source": [
    "def save_folds(data_dir, k, bands, frames):\n",
    "    fold_name = 'fold' + str(k)\n",
    "    print(\"Saving \" + fold_name)\n",
    "\n",
    "    features, labels = extract_features(parent_dir, [fold_name], bands=bands, frames=frames)\n",
    "    labels = one_hot_encode(labels)\n",
    "\n",
    "    print(\"Features of\", fold_name, \" = \", features.shape)\n",
    "    print(\"Labels of\", fold_name, \" = \", labels.shape)\n",
    "\n",
    "    feature_file = os.path.join(data_dir, fold_name + '_x.npy')\n",
    "    labels_file = os.path.join(data_dir, fold_name + '_y.npy')\n",
    "    np.save(feature_file, features)\n",
    "    print(\"Saved \" + feature_file)\n",
    "    np.save(labels_file, labels)\n",
    "    print(\"Saved \" + labels_file)\n",
    "\n",
    "def assure_path_exists(path):\n",
    "    mydir = os.path.join(os.getcwd(), path)\n",
    "    if not os.path.exists(mydir):\n",
    "        os.makedirs(mydir)"
   ]
  },
  {
   "cell_type": "code",
   "execution_count": 8,
   "metadata": {
    "collapsed": true
   },
   "outputs": [],
   "source": [
    "assure_path_exists(save_dir)"
   ]
  },
  {
   "cell_type": "code",
   "execution_count": 9,
   "metadata": {},
   "outputs": [
    {
     "name": "stdout",
     "output_type": "stream",
     "text": [
      "Saving fold3\n",
      "Saving fold5\n",
      "Saving fold2\n",
      "Saving fold4\n",
      "Saving fold6\n",
      "Saving fold7\n",
      "Saving fold8\n",
      "Saving fold10\n",
      "Saving fold9\n",
      "Saving fold1\n",
      "File /home/enterprise.internal.city.ac.uk/acvn476/UrbanSound8K/audio/fold1/87275-1-2-0.wav is shorter than window size - DISCARDING - look into making the window larger.\n",
      "File /home/enterprise.internal.city.ac.uk/acvn476/UrbanSound8K/audio/fold2/17307-1-0-0.wav is shorter than window size - DISCARDING - look into making the window larger.\n",
      "File /home/enterprise.internal.city.ac.uk/acvn476/UrbanSound8K/audio/fold1/87275-1-4-0.wav is shorter than window size - DISCARDING - look into making the window larger.\n",
      "File /home/enterprise.internal.city.ac.uk/acvn476/UrbanSound8K/audio/fold1/87275-1-1-0.wav is shorter than window size - DISCARDING - look into making the window larger.\n",
      "File /home/enterprise.internal.city.ac.uk/acvn476/UrbanSound8K/audio/fold1/87275-1-3-0.wav is shorter than window size - DISCARDING - look into making the window larger.\n",
      "Features of fold6  =  (823, 60, 101, 3)\n",
      "Labels of fold6  =  (823, 10)\n",
      "Saved folds_2channel/fold6_x.npy\n",
      "Saved folds_2channel/fold6_y.npy\n",
      "Features of fold3  =  (925, 60, 101, 3)\n",
      "Labels of fold3  =  (925, 10)\n",
      "Saved folds_2channel/fold3_x.npy\n",
      "Saved folds_2channel/fold3_y.npy\n",
      "Features of fold7  =  (838, 60, 101, 3)\n",
      "Labels of fold7  =  (838, 10)\n",
      "Saved folds_2channel/fold7_x.npy\n",
      "Saved folds_2channel/fold7_y.npy\n",
      "Features of fold8  =  (806, 60, 101, 3)\n",
      "Labels of fold8  =  (806, 10)\n",
      "Saved folds_2channel/fold8_x.npy\n",
      "Saved folds_2channel/fold8_y.npy\n",
      "Features of fold9  =  (816, 60, 101, 3)\n",
      "Labels of fold9  =  (816, 10)\n",
      "Saved folds_2channel/fold9_x.npy\n",
      "Saved folds_2channel/fold9_y.npy\n",
      "Features of fold10  =  (837, 60, 101, 3)\n",
      "Labels of fold10  =  (837, 10)\n",
      "Saved folds_2channel/fold10_x.npy\n",
      "Saved folds_2channel/fold10_y.npy\n",
      "Features of fold5  =  (936, 60, 101, 3)\n",
      "Labels of fold5  =  (936, 10)\n",
      "Saved folds_2channel/fold5_x.npy\n",
      "Saved folds_2channel/fold5_y.npy\n",
      "Features of fold1  =  (869, 60, 101, 3)\n",
      "Labels of fold1  =  (869, 10)\n",
      "Features of fold2  =  (887, 60, 101, 3)\n",
      "Labels of fold2  =  (887, 10)\n",
      "Saved folds_2channel/fold1_x.npy\n",
      "Saved folds_2channel/fold1_y.npy\n",
      "Saved folds_2channel/fold2_x.npy\n",
      "Saved folds_2channel/fold2_y.npy\n",
      "Features of fold4  =  (990, 60, 101, 3)\n",
      "Labels of fold4  =  (990, 10)\n",
      "Saved folds_2channel/fold4_x.npy\n",
      "Saved folds_2channel/fold4_y.npy\n"
     ]
    },
    {
     "data": {
      "text/plain": [
       "[None, None, None, None, None, None, None, None, None, None]"
      ]
     },
     "execution_count": 9,
     "metadata": {},
     "output_type": "execute_result"
    }
   ],
   "source": [
    "from joblib import Parallel, delayed\n",
    "Parallel(n_jobs=num_total_classes)(delayed(save_folds)(save_dir, k, bands=n_bands, frames=n_frames) for k in range(1, 11))"
   ]
  },
  {
   "cell_type": "code",
   "execution_count": null,
   "metadata": {
    "collapsed": true
   },
   "outputs": [],
   "source": []
  }
 ],
 "metadata": {
  "kernelspec": {
   "display_name": "Python 3",
   "language": "python",
   "name": "python3"
  },
  "language_info": {
   "codemirror_mode": {
    "name": "ipython",
    "version": 3
   },
   "file_extension": ".py",
   "mimetype": "text/x-python",
   "name": "python",
   "nbconvert_exporter": "python",
   "pygments_lexer": "ipython3",
   "version": "3.6.1"
  }
 },
 "nbformat": 4,
 "nbformat_minor": 2
}
